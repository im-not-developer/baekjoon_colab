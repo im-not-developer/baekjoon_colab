{
  "nbformat": 4,
  "nbformat_minor": 0,
  "metadata": {
    "colab": {
      "provenance": [],
      "authorship_tag": "ABX9TyPAlRD0ZwdjBXjvf2vMg5kH",
      "include_colab_link": true
    },
    "kernelspec": {
      "name": "python3",
      "display_name": "Python 3"
    },
    "language_info": {
      "name": "python"
    }
  },
  "cells": [
    {
      "cell_type": "markdown",
      "metadata": {
        "id": "view-in-github",
        "colab_type": "text"
      },
      "source": [
        "<a href=\"https://colab.research.google.com/github/im-not-developer/baekjoon_colab/blob/main/2588.ipynb\" target=\"_parent\"><img src=\"https://colab.research.google.com/assets/colab-badge.svg\" alt=\"Open In Colab\"/></a>"
      ]
    },
    {
      "cell_type": "code",
      "source": [
        "N = int(input())\n",
        "M = input()\n",
        "\n",
        "\n",
        "print(N*int(M[2]))\n",
        "print(N*int(M[1]))\n",
        "print(N*int(M[0]))\n",
        "print(N*int(M))\n"
      ],
      "metadata": {
        "id": "8-0gaiEngd12",
        "colab": {
          "base_uri": "https://localhost:8080/"
        },
        "outputId": "f3273f9e-9847-48cb-8b13-29e35196bc66"
      },
      "execution_count": 13,
      "outputs": [
        {
          "output_type": "stream",
          "name": "stdout",
          "text": [
            "432\n",
            "123\n",
            "1296\n",
            "864\n",
            "432\n",
            "53136\n"
          ]
        }
      ]
    },
    {
      "cell_type": "code",
      "source": [],
      "metadata": {
        "id": "1V15IRj6jrWC"
      },
      "execution_count": null,
      "outputs": []
    }
  ]
}