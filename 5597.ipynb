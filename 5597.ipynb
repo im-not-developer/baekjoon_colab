{
  "nbformat": 4,
  "nbformat_minor": 0,
  "metadata": {
    "colab": {
      "provenance": [],
      "authorship_tag": "ABX9TyNEWsezUf3bDnWct4bklutO",
      "include_colab_link": true
    },
    "kernelspec": {
      "name": "python3",
      "display_name": "Python 3"
    },
    "language_info": {
      "name": "python"
    }
  },
  "cells": [
    {
      "cell_type": "markdown",
      "metadata": {
        "id": "view-in-github",
        "colab_type": "text"
      },
      "source": [
        "<a href=\"https://colab.research.google.com/github/im-not-developer/baekjoon_colab/blob/main/5597.ipynb\" target=\"_parent\"><img src=\"https://colab.research.google.com/assets/colab-badge.svg\" alt=\"Open In Colab\"/></a>"
      ]
    },
    {
      "cell_type": "code",
      "execution_count": 10,
      "metadata": {
        "colab": {
          "base_uri": "https://localhost:8080/"
        },
        "id": "wWgPtE4Yi0QJ",
        "outputId": "455bbceb-07a9-4796-a171-366a16c7e646"
      },
      "outputs": [
        {
          "output_type": "stream",
          "name": "stdout",
          "text": [
            "3\n",
            "1\n",
            "4\n",
            "5\n",
            "7\n",
            "9\n",
            "6\n",
            "10\n",
            "11\n",
            "12\n",
            "13\n",
            "14\n",
            "15\n",
            "16\n",
            "17\n",
            "18\n",
            "19\n",
            "20\n",
            "21\n",
            "22\n",
            "23\n",
            "24\n",
            "25\n",
            "26\n",
            "27\n",
            "28\n",
            "29\n",
            "30\n",
            "2\n",
            "8\n"
          ]
        }
      ],
      "source": [
        "# n = list(map(int, input().split()))\n",
        "\n",
        "students=[i for i in range(1, 31)]\n",
        "\n",
        "for _ in range(28):\n",
        "  students.remove(int(input()))\n",
        "  \n",
        "print(min(students), max(students), sep='\\n')\n",
        "\n",
        "\n"
      ]
    }
  ]
}