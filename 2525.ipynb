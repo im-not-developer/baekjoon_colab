{
  "nbformat": 4,
  "nbformat_minor": 0,
  "metadata": {
    "colab": {
      "provenance": [],
      "authorship_tag": "ABX9TyMXwmQ8AWzZ7B9ELXFnSVcZ",
      "include_colab_link": true
    },
    "kernelspec": {
      "name": "python3",
      "display_name": "Python 3"
    },
    "language_info": {
      "name": "python"
    }
  },
  "cells": [
    {
      "cell_type": "markdown",
      "metadata": {
        "id": "view-in-github",
        "colab_type": "text"
      },
      "source": [
        "<a href=\"https://colab.research.google.com/github/im-not-developer/baekjoon_colab/blob/main/2525.ipynb\" target=\"_parent\"><img src=\"https://colab.research.google.com/assets/colab-badge.svg\" alt=\"Open In Colab\"/></a>"
      ]
    },
    {
      "cell_type": "code",
      "execution_count": 9,
      "metadata": {
        "colab": {
          "base_uri": "https://localhost:8080/"
        },
        "id": "RaIONTAIe5QL",
        "outputId": "d885855a-2026-4ae4-997d-a61fc444c47e"
      },
      "outputs": [
        {
          "output_type": "stream",
          "name": "stdout",
          "text": [
            "23 48\n",
            "25\n",
            "0 13\n"
          ]
        }
      ],
      "source": [
        "curHour, curMin = map(int, input().split())\n",
        "cookMin = int(input())\n",
        "\n",
        "\n",
        "curHour += cookMin // 60\n",
        "curMin += cookMin % 60\n",
        "\n",
        "if curMin >= 60:\n",
        "  curHour += 1\n",
        "  curMin -= 60\n",
        "\n",
        "if curHour >= 24:\n",
        "  curHour -= 24\n",
        "\n",
        "\n",
        "print(curHour, curMin)\n"
      ]
    },
    {
      "cell_type": "code",
      "source": [],
      "metadata": {
        "id": "VrG54soSgWoD"
      },
      "execution_count": null,
      "outputs": []
    }
  ]
}