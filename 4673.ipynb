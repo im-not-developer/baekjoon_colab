{
  "nbformat": 4,
  "nbformat_minor": 0,
  "metadata": {
    "colab": {
      "provenance": [],
      "authorship_tag": "ABX9TyM+1XWFZv4T1nIJqRnMrnMw",
      "include_colab_link": true
    },
    "kernelspec": {
      "name": "python3",
      "display_name": "Python 3"
    },
    "language_info": {
      "name": "python"
    }
  },
  "cells": [
    {
      "cell_type": "markdown",
      "metadata": {
        "id": "view-in-github",
        "colab_type": "text"
      },
      "source": [
        "<a href=\"https://colab.research.google.com/github/im-not-developer/baekjoon_colab/blob/main/4673.ipynb\" target=\"_parent\"><img src=\"https://colab.research.google.com/assets/colab-badge.svg\" alt=\"Open In Colab\"/></a>"
      ]
    },
    {
      "cell_type": "code",
      "execution_count": null,
      "metadata": {
        "id": "rEHgBsnA1d67"
      },
      "outputs": [],
      "source": [
        "\n",
        "selfNumberList = []\n",
        "\n",
        "def d(n):\n",
        "\n",
        "  convertNumber= n + sum(map(int, str(n)))\n",
        "  \n",
        "  selfNumberList.append(convertNumber)\n",
        "\n",
        "  return convertNumber\n",
        " \n",
        "\n",
        "# print(d(114))\n",
        "for i in range(1,10001):\n",
        "\n",
        "  if i < 10:\n",
        "    print(i)\n",
        "  else:\n",
        "    print(d(i))\n"
      ]
    }
  ]
}