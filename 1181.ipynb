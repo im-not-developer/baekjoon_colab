{
  "nbformat": 4,
  "nbformat_minor": 0,
  "metadata": {
    "colab": {
      "provenance": [],
      "authorship_tag": "ABX9TyMMSyMRcVBn4G5eMAxRdRkW",
      "include_colab_link": true
    },
    "kernelspec": {
      "name": "python3",
      "display_name": "Python 3"
    },
    "language_info": {
      "name": "python"
    }
  },
  "cells": [
    {
      "cell_type": "markdown",
      "metadata": {
        "id": "view-in-github",
        "colab_type": "text"
      },
      "source": [
        "<a href=\"https://colab.research.google.com/github/im-not-developer/baekjoon_colab/blob/main/1181.ipynb\" target=\"_parent\"><img src=\"https://colab.research.google.com/assets/colab-badge.svg\" alt=\"Open In Colab\"/></a>"
      ]
    },
    {
      "cell_type": "code",
      "execution_count": 12,
      "metadata": {
        "colab": {
          "base_uri": "https://localhost:8080/"
        },
        "id": "LKIk_2VsmJj-",
        "outputId": "0aa0c93d-c97d-42ff-ea4a-4a6747843913"
      },
      "outputs": [
        {
          "output_type": "stream",
          "name": "stdout",
          "text": [
            "13\n",
            "but\n",
            "i\n",
            "wont\n",
            "hesitate\n",
            "no\n",
            "more\n",
            "no\n",
            "more\n",
            "it\n",
            "canot\n",
            "wait\n",
            "im\n",
            "yours\n",
            "i\n",
            "im\n",
            "it\n",
            "no\n",
            "but\n",
            "more\n",
            "wait\n",
            "wont\n",
            "canot\n",
            "yours\n",
            "hesitate\n"
          ]
        }
      ],
      "source": [
        "n = int(input())\n",
        "words = []\n",
        "\n",
        "for _ in range(n):\n",
        "  words.append(input())\n",
        "new_sort = set()\n",
        "\n",
        "for word in words:\n",
        "  new_sort.add(word)\n",
        "\n",
        "new_sort = list(new_sort)\n",
        "new_sort.sort()\n",
        "new_sort.sort(key=lambda x:len(x))\n",
        "print(\"\\n\".join(new_sort))\n",
        "\n",
        "\n"
      ]
    }
  ]
}