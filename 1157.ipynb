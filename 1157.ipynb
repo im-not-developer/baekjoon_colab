{
  "nbformat": 4,
  "nbformat_minor": 0,
  "metadata": {
    "colab": {
      "provenance": [],
      "authorship_tag": "ABX9TyOCUoY5qDr9nk+cpUxiCo+L",
      "include_colab_link": true
    },
    "kernelspec": {
      "name": "python3",
      "display_name": "Python 3"
    },
    "language_info": {
      "name": "python"
    }
  },
  "cells": [
    {
      "cell_type": "markdown",
      "metadata": {
        "id": "view-in-github",
        "colab_type": "text"
      },
      "source": [
        "<a href=\"https://colab.research.google.com/github/im-not-developer/baekjoon_colab/blob/main/1157.ipynb\" target=\"_parent\"><img src=\"https://colab.research.google.com/assets/colab-badge.svg\" alt=\"Open In Colab\"/></a>"
      ]
    },
    {
      "cell_type": "code",
      "execution_count": 25,
      "metadata": {
        "colab": {
          "base_uri": "https://localhost:8080/"
        },
        "id": "GtfBuU02t9WS",
        "outputId": "b3dcabbf-19d9-4ae7-b411-10a3222a77e4"
      },
      "outputs": [
        {
          "output_type": "stream",
          "name": "stdout",
          "text": [
            "aaaa1\n",
            "A\n"
          ]
        }
      ],
      "source": [
        "from string import ascii_lowercase\n",
        "\n",
        "\n",
        "\n",
        "def FindAlphabet(text):\n",
        "  alphabet_dict = {}\n",
        "  text = list(map(str, text.lower()))\n",
        "  \n",
        "  for alpha in text:\n",
        "    if alpha not in alphabet_dict:\n",
        "      alphabet_dict[alpha] = 1\n",
        "    else:\n",
        "      alphabet_dict[alpha] += 1\n",
        "\n",
        "  maxList = []\n",
        "  for key, value in alphabet_dict.items():\n",
        "    if value == max(alphabet_dict.values()):\n",
        "      maxList.append(key)\n",
        "  \n",
        " \n",
        "  if len(maxList) == 1:\n",
        "    return maxList[0].upper()\n",
        "  else:\n",
        "    return '?'\n",
        " \n",
        "\n",
        "inputText = input()\n",
        "\n",
        "print(FindAlphabet(inputText))\n"
      ]
    }
  ]
}