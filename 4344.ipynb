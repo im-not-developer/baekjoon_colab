{
  "cells": [
    {
      "cell_type": "markdown",
      "metadata": {
        "id": "view-in-github",
        "colab_type": "text"
      },
      "source": [
        "<a href=\"https://colab.research.google.com/github/im-not-developer/baekjoon_colab/blob/main/4344.ipynb\" target=\"_parent\"><img src=\"https://colab.research.google.com/assets/colab-badge.svg\" alt=\"Open In Colab\"/></a>"
      ]
    },
    {
      "cell_type": "code",
      "execution_count": null,
      "metadata": {
        "colab": {
          "background_save": true,
          "base_uri": "https://localhost:8080/"
        },
        "id": "ZAjyt9y5iDqN",
        "outputId": "009b4707-202f-4012-aeee-78bdb60ad342"
      },
      "outputs": [
        {
          "output_type": "stream",
          "name": "stdout",
          "text": [
            "5\n",
            "5 50 50 70 80 100\n",
            "40.000%\n"
          ]
        }
      ],
      "source": [
        "N = int(input())\n",
        "\n",
        "for _ in range(N):\n",
        "  inputList = list(map(int, input().split()))\n",
        "\n",
        "  totalStudent = int(inputList[0])\n",
        "  average = sum(inputList[1:]) / totalStudent\n",
        "  cnt=0\n",
        "  for i in inputList[1:]:\n",
        "    if i > average:\n",
        "      cnt += 1\n",
        "  rate = cnt / totalStudent * 100\n",
        "  print(f'{rate:.3f}%')\n",
        "\n",
        "\n",
        "\n",
        "\n",
        "\n"
      ]
    }
  ],
  "metadata": {
    "colab": {
      "provenance": [],
      "authorship_tag": "ABX9TyO9PXfUJBYJHfdicTA59lMs",
      "include_colab_link": true
    },
    "kernelspec": {
      "display_name": "Python 3",
      "name": "python3"
    },
    "language_info": {
      "name": "python"
    }
  },
  "nbformat": 4,
  "nbformat_minor": 0
}