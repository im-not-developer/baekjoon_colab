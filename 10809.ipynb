{
  "nbformat": 4,
  "nbformat_minor": 0,
  "metadata": {
    "colab": {
      "provenance": [],
      "authorship_tag": "ABX9TyOJIr6s/KtT6fTHgCzfazAR",
      "include_colab_link": true
    },
    "kernelspec": {
      "name": "python3",
      "display_name": "Python 3"
    },
    "language_info": {
      "name": "python"
    }
  },
  "cells": [
    {
      "cell_type": "markdown",
      "metadata": {
        "id": "view-in-github",
        "colab_type": "text"
      },
      "source": [
        "<a href=\"https://colab.research.google.com/github/im-not-developer/baekjoon_colab/blob/main/10809.ipynb\" target=\"_parent\"><img src=\"https://colab.research.google.com/assets/colab-badge.svg\" alt=\"Open In Colab\"/></a>"
      ]
    },
    {
      "cell_type": "code",
      "execution_count": 18,
      "metadata": {
        "colab": {
          "base_uri": "https://localhost:8080/"
        },
        "id": "jUT6Z4k9PgE2",
        "outputId": "c3f77aae-5094-4d93-d8fa-5cd69e1c2842"
      },
      "outputs": [
        {
          "output_type": "stream",
          "name": "stdout",
          "text": [
            "baekjoon\n",
            "1 0 -1 -1 2 -1 -1 -1 -1 4 3 -1 -1 7 5 -1 -1 -1 -1 -1 -1 -1 -1 -1 -1 -1 "
          ]
        }
      ],
      "source": [
        "text = list(map(str, input()))\n",
        "alphaDict = {}\n",
        "\n",
        "for i in range(97, 123):\n",
        "  alphaDict[chr(i)] = -1\n",
        "\n",
        "for i in range(len(text)):\n",
        "  word = text[i]\n",
        "  if alphaDict[word] == -1:\n",
        "    alphaDict[word] = i\n",
        "  \n",
        "for value in alphaDict.values():\n",
        "  print(value, end=' ')\n",
        "\n"
      ]
    }
  ]
}