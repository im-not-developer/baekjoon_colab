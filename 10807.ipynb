{
  "nbformat": 4,
  "nbformat_minor": 0,
  "metadata": {
    "colab": {
      "provenance": [],
      "authorship_tag": "ABX9TyPRwuUGctvloJTq/VA6iXg5",
      "include_colab_link": true
    },
    "kernelspec": {
      "name": "python3",
      "display_name": "Python 3"
    },
    "language_info": {
      "name": "python"
    }
  },
  "cells": [
    {
      "cell_type": "markdown",
      "metadata": {
        "id": "view-in-github",
        "colab_type": "text"
      },
      "source": [
        "<a href=\"https://colab.research.google.com/github/im-not-developer/baekjoon_colab/blob/main/10807.ipynb\" target=\"_parent\"><img src=\"https://colab.research.google.com/assets/colab-badge.svg\" alt=\"Open In Colab\"/></a>"
      ]
    },
    {
      "cell_type": "code",
      "execution_count": 1,
      "metadata": {
        "colab": {
          "base_uri": "https://localhost:8080/"
        },
        "id": "uZ5nILTSRLdQ",
        "outputId": "5f371f1e-4d4a-44f2-af55-bdfbdfdfc560"
      },
      "outputs": [
        {
          "output_type": "stream",
          "name": "stdout",
          "text": [
            "11\n",
            "1 4 1 2 4 2 4 2 3 4 4\n",
            "2\n",
            "3\n"
          ]
        }
      ],
      "source": [
        "n = int(input())\n",
        "v = list(map(int, input().split()))\n",
        "findNum = int(input())\n",
        "\n",
        "count=0\n",
        "for i in v:\n",
        "  if i == findNum:\n",
        "    count += 1\n",
        "\n",
        "print(count)\n",
        "\n",
        "\n"
      ]
    }
  ]
}