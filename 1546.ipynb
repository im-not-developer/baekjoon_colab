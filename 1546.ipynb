{
  "nbformat": 4,
  "nbformat_minor": 0,
  "metadata": {
    "colab": {
      "provenance": [],
      "authorship_tag": "ABX9TyM4lXFuAhaNZV+UU+e4p0oi",
      "include_colab_link": true
    },
    "kernelspec": {
      "name": "python3",
      "display_name": "Python 3"
    },
    "language_info": {
      "name": "python"
    }
  },
  "cells": [
    {
      "cell_type": "markdown",
      "metadata": {
        "id": "view-in-github",
        "colab_type": "text"
      },
      "source": [
        "<a href=\"https://colab.research.google.com/github/im-not-developer/baekjoon_colab/blob/main/1546.ipynb\" target=\"_parent\"><img src=\"https://colab.research.google.com/assets/colab-badge.svg\" alt=\"Open In Colab\"/></a>"
      ]
    },
    {
      "cell_type": "code",
      "execution_count": 3,
      "metadata": {
        "colab": {
          "base_uri": "https://localhost:8080/"
        },
        "id": "SYXcXhluOAuO",
        "outputId": "23285f8b-7f14-414a-a6a9-d90bf0a272c8"
      },
      "outputs": [
        {
          "output_type": "stream",
          "name": "stdout",
          "text": [
            "3\n",
            "10 20 30\n",
            "66.66666666666667\n"
          ]
        }
      ],
      "source": [
        "n = int(input())\n",
        "tests = list(map(int, input().split()))\n",
        "max_score = max(tests)\n",
        "\n",
        "recalculationTests = []\n",
        "for score in tests :\n",
        "    recalculationTests.append(score/max_score *100)  # 새로운 점수 생성\n",
        "test_avg = sum(recalculationTests)/n\n",
        "print(test_avg)"
      ]
    }
  ]
}