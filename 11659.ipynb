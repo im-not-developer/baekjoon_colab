{
  "nbformat": 4,
  "nbformat_minor": 0,
  "metadata": {
    "colab": {
      "provenance": [],
      "authorship_tag": "ABX9TyP6QUl0odQ9aNO1pW/bF/lL",
      "include_colab_link": true
    },
    "kernelspec": {
      "name": "python3",
      "display_name": "Python 3"
    },
    "language_info": {
      "name": "python"
    }
  },
  "cells": [
    {
      "cell_type": "markdown",
      "metadata": {
        "id": "view-in-github",
        "colab_type": "text"
      },
      "source": [
        "<a href=\"https://colab.research.google.com/github/im-not-developer/baekjoon_colab/blob/main/11659.ipynb\" target=\"_parent\"><img src=\"https://colab.research.google.com/assets/colab-badge.svg\" alt=\"Open In Colab\"/></a>"
      ]
    },
    {
      "cell_type": "code",
      "execution_count": null,
      "metadata": {
        "id": "WToasIqB5WBM"
      },
      "outputs": [],
      "source": [
        "# 속도의 문제 때문에 sys를 사용해야함.\n",
        "import sys\n",
        "n, m = map(int, sys.stdin.readline().split())\n",
        "prefix = [0]\n",
        "nList = list(map(int, sys.stdin.readline().split()))\n",
        "\n",
        "tmp = 0\n",
        "for i in nList:\n",
        "  tmp += i\n",
        "  prefix.append(tmp)\n",
        "\n",
        "for _ in range(m):\n",
        "  i, j = map(int, sys.stdin.readline().split())\n",
        "  print(prefix[j] - prefix[i-1])\n"
      ]
    },
    {
      "cell_type": "code",
      "source": [
        "# colap의 특성상.. sys를 못써서 아래와 같은 예제를 만듬\n",
        "n, m = map(int, input().split())\n",
        "prefix = [0]\n",
        "nList = list(map(int, input().split()))\n",
        "\n",
        "tmp = 0\n",
        "for i in nList:\n",
        "  tmp += i\n",
        "  prefix.append(tmp)\n",
        "\n",
        "for _ in range(m):\n",
        "  i, j = map(int, input().split())\n",
        "  print(prefix[j] - prefix[i-1])\n"
      ],
      "metadata": {
        "colab": {
          "base_uri": "https://localhost:8080/"
        },
        "id": "wXjxd_y6CPYm",
        "outputId": "0b5c738d-e828-4b01-b109-64526087659a"
      },
      "execution_count": 13,
      "outputs": [
        {
          "output_type": "stream",
          "name": "stdout",
          "text": [
            "5 3\n",
            "5 4 3 2 1\n",
            "1 3\n",
            "12\n",
            "2 4\n",
            "9\n",
            "5 5 \n",
            "1\n"
          ]
        }
      ]
    }
  ]
}