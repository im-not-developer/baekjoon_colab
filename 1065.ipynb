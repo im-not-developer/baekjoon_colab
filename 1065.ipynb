{
  "nbformat": 4,
  "nbformat_minor": 0,
  "metadata": {
    "colab": {
      "provenance": [],
      "authorship_tag": "ABX9TyOfUBg2o77St4jDHbryMn1g",
      "include_colab_link": true
    },
    "kernelspec": {
      "name": "python3",
      "display_name": "Python 3"
    },
    "language_info": {
      "name": "python"
    }
  },
  "cells": [
    {
      "cell_type": "markdown",
      "metadata": {
        "id": "view-in-github",
        "colab_type": "text"
      },
      "source": [
        "<a href=\"https://colab.research.google.com/github/im-not-developer/baekjoon_colab/blob/main/1065.ipynb\" target=\"_parent\"><img src=\"https://colab.research.google.com/assets/colab-badge.svg\" alt=\"Open In Colab\"/></a>"
      ]
    },
    {
      "cell_type": "code",
      "execution_count": 77,
      "metadata": {
        "colab": {
          "base_uri": "https://localhost:8080/"
        },
        "id": "ICXTp4ISJQfI",
        "outputId": "871a5118-4fea-499a-cb9c-722e1386c0c3"
      },
      "outputs": [
        {
          "output_type": "stream",
          "name": "stdout",
          "text": [
            "105\n"
          ]
        }
      ],
      "source": [
        "\n",
        "def d(n):\n",
        "  if n < 10:\n",
        "    return 1\n",
        "  nList = list(map(int, str(n)))\n",
        "\n",
        "  commonDifferenceList = set()\n",
        "\n",
        "  for i in range(len(nList)):\n",
        "    if i == len(nList) - 1:\n",
        "      break\n",
        "    else:\n",
        "      atomic = nList[i]\n",
        "      nextAtomic = nList[i+1]\n",
        "      commonDifferenceList.add(atomic - nextAtomic)\n",
        "  \n",
        "\n",
        "  if len(list(commonDifferenceList)) == 1: \n",
        "    return True\n",
        "  else:\n",
        "    return False\n",
        "\n",
        "naturalNumber = int(input())\n",
        "# naturalNumber = 210\n",
        "\n",
        "count = 0\n",
        "for i in range(1, naturalNumber + 1):\n",
        "  result = d(i)\n",
        "  if result:\n",
        "    count += 1\n",
        "  \n",
        "print(count)"
      ]
    }
  ]
}