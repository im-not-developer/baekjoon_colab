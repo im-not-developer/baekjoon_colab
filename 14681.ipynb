{
  "nbformat": 4,
  "nbformat_minor": 0,
  "metadata": {
    "colab": {
      "provenance": [],
      "authorship_tag": "ABX9TyM66hAt2ngGkMhJ7erfmSfU",
      "include_colab_link": true
    },
    "kernelspec": {
      "name": "python3",
      "display_name": "Python 3"
    },
    "language_info": {
      "name": "python"
    }
  },
  "cells": [
    {
      "cell_type": "markdown",
      "metadata": {
        "id": "view-in-github",
        "colab_type": "text"
      },
      "source": [
        "<a href=\"https://colab.research.google.com/github/im-not-developer/baekjoon_colab/blob/main/14681.ipynb\" target=\"_parent\"><img src=\"https://colab.research.google.com/assets/colab-badge.svg\" alt=\"Open In Colab\"/></a>"
      ]
    },
    {
      "cell_type": "code",
      "execution_count": 5,
      "metadata": {
        "colab": {
          "base_uri": "https://localhost:8080/"
        },
        "id": "Difc3ABnqVE5",
        "outputId": "7e92be3c-9c9c-4b5f-8970-043f90d2c24a"
      },
      "outputs": [
        {
          "output_type": "stream",
          "name": "stdout",
          "text": [
            "12\n",
            "5\n",
            "12 5\n",
            "1\n"
          ]
        }
      ],
      "source": [
        "X = int(input())\n",
        "Y = int(input())\n",
        "\n",
        "if 0 < X and 0 < Y:\n",
        "  print(1)\n",
        "elif 0 > X and 0 < Y:\n",
        "  print(2)\n",
        "elif 0 > X and 0 > Y:\n",
        "  print(3)\n",
        "elif 0 < X and 0 > Y:\n",
        "  print(4)\n",
        "\n"
      ]
    }
  ]
}