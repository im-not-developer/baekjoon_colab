{
  "nbformat": 4,
  "nbformat_minor": 0,
  "metadata": {
    "colab": {
      "provenance": [],
      "authorship_tag": "ABX9TyMRwSD3X84uy0bkcDm1DU5Z",
      "include_colab_link": true
    },
    "kernelspec": {
      "name": "python3",
      "display_name": "Python 3"
    },
    "language_info": {
      "name": "python"
    }
  },
  "cells": [
    {
      "cell_type": "markdown",
      "metadata": {
        "id": "view-in-github",
        "colab_type": "text"
      },
      "source": [
        "<a href=\"https://colab.research.google.com/github/im-not-developer/baekjoon_colab/blob/main/14681.ipynb\" target=\"_parent\"><img src=\"https://colab.research.google.com/assets/colab-badge.svg\" alt=\"Open In Colab\"/></a>"
      ]
    },
    {
      "cell_type": "code",
      "execution_count": 7,
      "metadata": {
        "colab": {
          "base_uri": "https://localhost:8080/"
        },
        "id": "Difc3ABnqVE5",
        "outputId": "0d49eb48-e192-4798-e25c-b868536e9d27"
      },
      "outputs": [
        {
          "output_type": "stream",
          "name": "stdout",
          "text": [
            "0 15\n",
            "23 30\n"
          ]
        }
      ],
      "source": [
        "hours, min = map(int, input().split())\n",
        "\n",
        "if min > 44:\n",
        "  print(hours , min-45)\n",
        "elif min < 45 and hours > 0:\n",
        "  print(hours-1, min + 15 )\n",
        "else:\n",
        "  print(23, min+15)"
      ]
    }
  ]
}