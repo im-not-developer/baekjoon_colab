{
  "nbformat": 4,
  "nbformat_minor": 0,
  "metadata": {
    "colab": {
      "provenance": [],
      "authorship_tag": "ABX9TyN0EFN0lM1apfusuubZPuZ+",
      "include_colab_link": true
    },
    "kernelspec": {
      "name": "python3",
      "display_name": "Python 3"
    },
    "language_info": {
      "name": "python"
    }
  },
  "cells": [
    {
      "cell_type": "markdown",
      "metadata": {
        "id": "view-in-github",
        "colab_type": "text"
      },
      "source": [
        "<a href=\"https://colab.research.google.com/github/im-not-developer/baekjoon_colab/blob/main/2869.ipynb\" target=\"_parent\"><img src=\"https://colab.research.google.com/assets/colab-badge.svg\" alt=\"Open In Colab\"/></a>"
      ]
    },
    {
      "cell_type": "code",
      "execution_count": 26,
      "metadata": {
        "colab": {
          "base_uri": "https://localhost:8080/"
        },
        "id": "hyV4plFgH8O3",
        "outputId": "82d9d632-a4aa-4bd6-860b-ba8a0b2847f5"
      },
      "outputs": [
        {
          "output_type": "stream",
          "name": "stdout",
          "text": [
            "2 1 5\n",
            "4\n"
          ]
        }
      ],
      "source": [
        "a, b, v = map(int, input().split())\n",
        "\n",
        "\n",
        "result = ( v - b ) % ( a - b )\n",
        "\n",
        "if result != 0:\n",
        "  print((v - b) // (a - b) + 1)\n",
        "else:\n",
        "  print((v - b) // (a - b))\n",
        "\n"
      ]
    }
  ]
}