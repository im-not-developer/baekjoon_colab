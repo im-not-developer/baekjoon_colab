{
  "cells": [
    {
      "cell_type": "markdown",
      "metadata": {
        "id": "view-in-github",
        "colab_type": "text"
      },
      "source": [
        "<a href=\"https://colab.research.google.com/github/im-not-developer/baekjoon_colab/blob/main/8958.ipynb\" target=\"_parent\"><img src=\"https://colab.research.google.com/assets/colab-badge.svg\" alt=\"Open In Colab\"/></a>"
      ]
    },
    {
      "cell_type": "code",
      "execution_count": 11,
      "metadata": {
        "colab": {
          "base_uri": "https://localhost:8080/"
        },
        "id": "iuza_GflZ0UB",
        "outputId": "008caa0e-4566-4e31-c0a6-43b0c2ed62d7"
      },
      "outputs": [
        {
          "output_type": "stream",
          "name": "stdout",
          "text": [
            "1\n",
            "OXOXOOOO\n",
            "12\n"
          ]
        }
      ],
      "source": [
        "n = int(input())\n",
        "\n",
        "\n",
        "for _ in range(n):\n",
        "  oxText = list(map(str, input()))\n",
        "  \n",
        "  cnt = 0\n",
        "  score = 0\n",
        "  for i in oxText:\n",
        "    if i == 'O':\n",
        "      cnt += 1\n",
        "      score += cnt\n",
        "    else:\n",
        "      cnt = 0\n",
        "  print(score)\n"
      ]
    },
    {
      "cell_type": "code",
      "source": [],
      "metadata": {
        "id": "OUYHV8hjNuRW"
      },
      "execution_count": null,
      "outputs": []
    }
  ],
  "metadata": {
    "colab": {
      "provenance": [],
      "authorship_tag": "ABX9TyOUb2w5f761AtsqywO4Pqk2",
      "include_colab_link": true
    },
    "kernelspec": {
      "display_name": "Python 3",
      "name": "python3"
    },
    "language_info": {
      "name": "python"
    }
  },
  "nbformat": 4,
  "nbformat_minor": 0
}