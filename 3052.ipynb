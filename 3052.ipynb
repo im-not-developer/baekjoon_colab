{
  "nbformat": 4,
  "nbformat_minor": 0,
  "metadata": {
    "colab": {
      "provenance": [],
      "authorship_tag": "ABX9TyMuKCCj/fygPtQAZLNmrRBY",
      "include_colab_link": true
    },
    "kernelspec": {
      "name": "python3",
      "display_name": "Python 3"
    },
    "language_info": {
      "name": "python"
    }
  },
  "cells": [
    {
      "cell_type": "markdown",
      "metadata": {
        "id": "view-in-github",
        "colab_type": "text"
      },
      "source": [
        "<a href=\"https://colab.research.google.com/github/im-not-developer/baekjoon_colab/blob/main/3052.ipynb\" target=\"_parent\"><img src=\"https://colab.research.google.com/assets/colab-badge.svg\" alt=\"Open In Colab\"/></a>"
      ]
    },
    {
      "cell_type": "code",
      "execution_count": 10,
      "metadata": {
        "colab": {
          "base_uri": "https://localhost:8080/"
        },
        "id": "Pues5Qlbmf_h",
        "outputId": "3f222b76-30aa-47cf-e22a-6ce1081f7502"
      },
      "outputs": [
        {
          "output_type": "stream",
          "name": "stdout",
          "text": [
            "39\n",
            "40\n",
            "41\n",
            "42\n",
            "43\n",
            "44\n",
            "82\n",
            "83\n",
            "84\n",
            "85\n",
            "6\n"
          ]
        }
      ],
      "source": [
        "n = []\n",
        "for _ in range(10):\n",
        "  n.append(int(input()) % 42)\n",
        "\n",
        "print(len(set(n)))\n",
        "\n",
        "\n"
      ]
    }
  ]
}