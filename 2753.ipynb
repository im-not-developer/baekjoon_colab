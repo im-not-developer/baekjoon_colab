{
  "nbformat": 4,
  "nbformat_minor": 0,
  "metadata": {
    "colab": {
      "provenance": [],
      "authorship_tag": "ABX9TyOvvnPmkPYLuGWAcmoWeChm",
      "include_colab_link": true
    },
    "kernelspec": {
      "name": "python3",
      "display_name": "Python 3"
    },
    "language_info": {
      "name": "python"
    }
  },
  "cells": [
    {
      "cell_type": "markdown",
      "metadata": {
        "id": "view-in-github",
        "colab_type": "text"
      },
      "source": [
        "<a href=\"https://colab.research.google.com/github/im-not-developer/baekjoon_colab/blob/main/2753.ipynb\" target=\"_parent\"><img src=\"https://colab.research.google.com/assets/colab-badge.svg\" alt=\"Open In Colab\"/></a>"
      ]
    },
    {
      "cell_type": "code",
      "execution_count": 5,
      "metadata": {
        "colab": {
          "base_uri": "https://localhost:8080/"
        },
        "id": "VsA5WI-aEKVP",
        "outputId": "4b47f580-58c6-4224-a288-aef1740719d4"
      },
      "outputs": [
        {
          "output_type": "stream",
          "name": "stdout",
          "text": [
            "2000\n",
            "1\n"
          ]
        }
      ],
      "source": [
        "year = int(input())\n",
        "\n",
        "fourHundred = year % 400\n",
        "oneHundred = year % 100\n",
        "\n",
        "if fourHundred == 0  and oneHundred == 0:\n",
        "  print(1)\n",
        "else:\n",
        "  print(0)\n"
      ]
    }
  ]
}