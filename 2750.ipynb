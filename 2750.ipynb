{
  "nbformat": 4,
  "nbformat_minor": 0,
  "metadata": {
    "colab": {
      "provenance": [],
      "authorship_tag": "ABX9TyNGKtBZhCxmOHfG90DwS7X0",
      "include_colab_link": true
    },
    "kernelspec": {
      "name": "python3",
      "display_name": "Python 3"
    },
    "language_info": {
      "name": "python"
    }
  },
  "cells": [
    {
      "cell_type": "markdown",
      "metadata": {
        "id": "view-in-github",
        "colab_type": "text"
      },
      "source": [
        "<a href=\"https://colab.research.google.com/github/im-not-developer/baekjoon_colab/blob/main/2750.ipynb\" target=\"_parent\"><img src=\"https://colab.research.google.com/assets/colab-badge.svg\" alt=\"Open In Colab\"/></a>"
      ]
    },
    {
      "cell_type": "code",
      "execution_count": 5,
      "metadata": {
        "id": "e1mZcvwJMnje"
      },
      "outputs": [],
      "source": [
        "N = int(input())\n",
        "\n",
        "antialign = []\n",
        "\n",
        "for _ in range(N):\n",
        "  antialign.append(int(input()))\n",
        "\n",
        "antialign.sort()\n",
        "print(*antialign, sep='\\n')\n"
      ]
    }
  ]
}