{
  "nbformat": 4,
  "nbformat_minor": 0,
  "metadata": {
    "colab": {
      "provenance": [],
      "authorship_tag": "ABX9TyOop6l0/c5hT/Wn05HM0ntc",
      "include_colab_link": true
    },
    "kernelspec": {
      "name": "python3",
      "display_name": "Python 3"
    },
    "language_info": {
      "name": "python"
    }
  },
  "cells": [
    {
      "cell_type": "markdown",
      "metadata": {
        "id": "view-in-github",
        "colab_type": "text"
      },
      "source": [
        "<a href=\"https://colab.research.google.com/github/im-not-developer/baekjoon_colab/blob/main/1978.ipynb\" target=\"_parent\"><img src=\"https://colab.research.google.com/assets/colab-badge.svg\" alt=\"Open In Colab\"/></a>"
      ]
    },
    {
      "cell_type": "code",
      "execution_count": 9,
      "metadata": {
        "colab": {
          "base_uri": "https://localhost:8080/"
        },
        "id": "wgvgVQkWbgpF",
        "outputId": "0c2620ee-0a5d-4785-cd03-b8930c349784"
      },
      "outputs": [
        {
          "output_type": "stream",
          "name": "stdout",
          "text": [
            "1 3 5 7\n",
            "3\n"
          ]
        }
      ],
      "source": [
        "N = int(input())\n",
        "M = list(map(int, input().split()))\n",
        "\n",
        "cnt = 0\n",
        "\n",
        "def sosu(x):\n",
        "\n",
        "  if x == 1:\n",
        "    return False\n",
        "\n",
        "  for i in range(2, x):\n",
        "    if x % i == 0:\n",
        "      return False\n",
        "  return True\n",
        "\n",
        "\n",
        "for i in M:\n",
        "   result = sosu(i)\n",
        "   if result:\n",
        "     cnt+=1\n",
        "\n",
        "print(cnt)"
      ]
    }
  ]
}