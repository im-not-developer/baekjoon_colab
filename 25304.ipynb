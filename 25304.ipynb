{
  "nbformat": 4,
  "nbformat_minor": 0,
  "metadata": {
    "colab": {
      "provenance": [],
      "authorship_tag": "ABX9TyM8QeYaLB1uoNtSJyuVqLRP",
      "include_colab_link": true
    },
    "kernelspec": {
      "name": "python3",
      "display_name": "Python 3"
    },
    "language_info": {
      "name": "python"
    }
  },
  "cells": [
    {
      "cell_type": "markdown",
      "metadata": {
        "id": "view-in-github",
        "colab_type": "text"
      },
      "source": [
        "<a href=\"https://colab.research.google.com/github/im-not-developer/baekjoon_colab/blob/main/25304.ipynb\" target=\"_parent\"><img src=\"https://colab.research.google.com/assets/colab-badge.svg\" alt=\"Open In Colab\"/></a>"
      ]
    },
    {
      "cell_type": "code",
      "execution_count": 2,
      "metadata": {
        "colab": {
          "base_uri": "https://localhost:8080/"
        },
        "id": "rBLZrkBUVp9V",
        "outputId": "739bcabe-31b0-419d-e893-cf158c3bd4e6"
      },
      "outputs": [
        {
          "output_type": "stream",
          "name": "stdout",
          "text": [
            "260000\n",
            "4\n",
            "20000 5\n",
            "30000 2\n",
            "10000 6\n",
            "5000 8\n",
            "Yes\n"
          ]
        }
      ],
      "source": [
        "totalPrice = int(input())\n",
        "\n",
        "totalCnt = int(input())\n",
        "tmp = []\n",
        "for _ in range(totalCnt):\n",
        "  price, cnt = map(int, input().split())\n",
        "  tmp.append(price * cnt)\n",
        "\n",
        "\n",
        "if sum(tmp) == totalPrice:\n",
        "  print('Yes')\n",
        "else:\n",
        "  print('No')"
      ]
    }
  ]
}