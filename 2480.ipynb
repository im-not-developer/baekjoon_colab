{
  "nbformat": 4,
  "nbformat_minor": 0,
  "metadata": {
    "colab": {
      "provenance": [],
      "authorship_tag": "ABX9TyOniWR+EuW4ruu2B/67SMoD",
      "include_colab_link": true
    },
    "kernelspec": {
      "name": "python3",
      "display_name": "Python 3"
    },
    "language_info": {
      "name": "python"
    }
  },
  "cells": [
    {
      "cell_type": "markdown",
      "metadata": {
        "id": "view-in-github",
        "colab_type": "text"
      },
      "source": [
        "<a href=\"https://colab.research.google.com/github/im-not-developer/baekjoon_colab/blob/main/2480.ipynb\" target=\"_parent\"><img src=\"https://colab.research.google.com/assets/colab-badge.svg\" alt=\"Open In Colab\"/></a>"
      ]
    },
    {
      "cell_type": "code",
      "execution_count": 3,
      "metadata": {
        "colab": {
          "base_uri": "https://localhost:8080/"
        },
        "id": "ADbvz8I3O4fg",
        "outputId": "8bbe8b9a-257b-44b1-f4b6-732ff97db0d0"
      },
      "outputs": [
        {
          "output_type": "stream",
          "name": "stdout",
          "text": [
            "3 3 6\n",
            "1300\n"
          ]
        }
      ],
      "source": [
        "a, b, c = map(int, input().split())\n",
        "\n",
        "if a==b==c:\n",
        "    print(10000+a*1000)\n",
        "elif a==b or b==c:\n",
        "    print(1000+b*100)\n",
        "elif a==c:\n",
        "    print(1000+a*100)\n",
        "else:\n",
        "    print(max(a,b,c)*100)"
      ]
    }
  ]
}