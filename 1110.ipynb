{
  "nbformat": 4,
  "nbformat_minor": 0,
  "metadata": {
    "colab": {
      "provenance": [],
      "authorship_tag": "ABX9TyPLe1HnrrUN85QQlfHStpJr",
      "include_colab_link": true
    },
    "kernelspec": {
      "name": "python3",
      "display_name": "Python 3"
    },
    "language_info": {
      "name": "python"
    }
  },
  "cells": [
    {
      "cell_type": "markdown",
      "metadata": {
        "id": "view-in-github",
        "colab_type": "text"
      },
      "source": [
        "<a href=\"https://colab.research.google.com/github/im-not-developer/baekjoon_colab/blob/main/1110.ipynb\" target=\"_parent\"><img src=\"https://colab.research.google.com/assets/colab-badge.svg\" alt=\"Open In Colab\"/></a>"
      ]
    },
    {
      "cell_type": "code",
      "execution_count": 35,
      "metadata": {
        "colab": {
          "base_uri": "https://localhost:8080/"
        },
        "id": "48RjBFekWoqu",
        "outputId": "8c1db2d5-c7f3-4092-c477-54d4ba62e8f7"
      },
      "outputs": [
        {
          "output_type": "stream",
          "name": "stdout",
          "text": [
            "99\n",
            "60\n"
          ]
        }
      ],
      "source": [
        "n = int(input())\n",
        "num = n\n",
        "cnt = 0\n",
        "\n",
        "while True:\n",
        "  cnt += 1\n",
        "  a = num // 10\n",
        "  b = num % 10\n",
        "  c = (a + b) % 10\n",
        "  num = (b * 10) + c\n",
        "\n",
        "\n",
        "\n",
        "  if num == n:\n",
        "    print(cnt)\n",
        "    break\n",
        "\n"
      ]
    }
  ]
}