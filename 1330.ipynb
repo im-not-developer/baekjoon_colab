{
  "nbformat": 4,
  "nbformat_minor": 0,
  "metadata": {
    "colab": {
      "provenance": [],
      "authorship_tag": "ABX9TyMes0MW176dTXrK5VfwbnT+",
      "include_colab_link": true
    },
    "kernelspec": {
      "name": "python3",
      "display_name": "Python 3"
    },
    "language_info": {
      "name": "python"
    }
  },
  "cells": [
    {
      "cell_type": "markdown",
      "metadata": {
        "id": "view-in-github",
        "colab_type": "text"
      },
      "source": [
        "<a href=\"https://colab.research.google.com/github/im-not-developer/baekjoon_colab/blob/main/1330.ipynb\" target=\"_parent\"><img src=\"https://colab.research.google.com/assets/colab-badge.svg\" alt=\"Open In Colab\"/></a>"
      ]
    },
    {
      "cell_type": "code",
      "execution_count": 2,
      "metadata": {
        "colab": {
          "base_uri": "https://localhost:8080/"
        },
        "id": "Mkbd5GarpdNI",
        "outputId": "fb50e4b1-e73a-4268-a9ab-0a9b452e47c5"
      },
      "outputs": [
        {
          "output_type": "stream",
          "name": "stdout",
          "text": [
            "1 2\n",
            "1 2\n",
            "<\n"
          ]
        }
      ],
      "source": [
        "A, B= map(int,input().split())\n",
        "\n",
        "if A == B:\n",
        "  print('==')\n",
        "elif A > B:\n",
        "  print('>')\n",
        "else:\n",
        "  print('<')"
      ]
    }
  ]
}