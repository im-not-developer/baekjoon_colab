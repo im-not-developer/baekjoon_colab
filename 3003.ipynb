{
  "nbformat": 4,
  "nbformat_minor": 0,
  "metadata": {
    "colab": {
      "provenance": [],
      "authorship_tag": "ABX9TyNgNUOZS1GMYdt7VOcu5L3e",
      "include_colab_link": true
    },
    "kernelspec": {
      "name": "python3",
      "display_name": "Python 3"
    },
    "language_info": {
      "name": "python"
    }
  },
  "cells": [
    {
      "cell_type": "markdown",
      "metadata": {
        "id": "view-in-github",
        "colab_type": "text"
      },
      "source": [
        "<a href=\"https://colab.research.google.com/github/im-not-developer/baekjoon_colab/blob/main/3003.ipynb\" target=\"_parent\"><img src=\"https://colab.research.google.com/assets/colab-badge.svg\" alt=\"Open In Colab\"/></a>"
      ]
    },
    {
      "cell_type": "code",
      "execution_count": 46,
      "metadata": {
        "colab": {
          "base_uri": "https://localhost:8080/"
        },
        "id": "bK28f2F9sX1Y",
        "outputId": "36122c3d-8987-48ee-c44b-563d1f797b9b"
      },
      "outputs": [
        {
          "output_type": "stream",
          "name": "stdout",
          "text": [
            "2 1 2 1 2 1\n",
            "-1 0 0 1 0 7\n"
          ]
        }
      ],
      "source": [
        "haveChassman = list(map(int, input().split()))\n",
        "origin = [1, 1, 2, 2, 2, 8]\n",
        "\n",
        "lackOfChassman = [0] * 6\n",
        "\n",
        "\n",
        "for i in range(len(haveChassman)):\n",
        "  result = origin[i] - haveChassman[i]\n",
        "  lackOfChassman[i] = result\n",
        "\n",
        "print(' '.join(map(str, lackOfChassman)))\n"
      ]
    }
  ]
}