{
  "nbformat": 4,
  "nbformat_minor": 0,
  "metadata": {
    "colab": {
      "provenance": [],
      "authorship_tag": "ABX9TyPQlw8oluKvMZSqv8yOtY1U",
      "include_colab_link": true
    },
    "kernelspec": {
      "name": "python3",
      "display_name": "Python 3"
    },
    "language_info": {
      "name": "python"
    }
  },
  "cells": [
    {
      "cell_type": "markdown",
      "metadata": {
        "id": "view-in-github",
        "colab_type": "text"
      },
      "source": [
        "<a href=\"https://colab.research.google.com/github/im-not-developer/baekjoon_colab/blob/main/2675.ipynb\" target=\"_parent\"><img src=\"https://colab.research.google.com/assets/colab-badge.svg\" alt=\"Open In Colab\"/></a>"
      ]
    },
    {
      "cell_type": "code",
      "execution_count": 15,
      "metadata": {
        "colab": {
          "base_uri": "https://localhost:8080/"
        },
        "id": "9AQ4y-W3pwUo",
        "outputId": "0c5d5e8e-e3bd-456d-bf30-bd8ee62f117d"
      },
      "outputs": [
        {
          "output_type": "stream",
          "name": "stdout",
          "text": [
            "2\n",
            "5 avx\n",
            "aaaaavvvvvxxxxx\n",
            "2 addv\n",
            "aaddddvv\n"
          ]
        }
      ],
      "source": [
        "testCaseCount = int(input())\n",
        "\n",
        "for i in range(testCaseCount):\n",
        "  testCaseInfo = input().split()\n",
        "  textArr = []\n",
        "  for j in list(map(str, testCaseInfo[1])):\n",
        "    for k in range(0, int(testCaseInfo[0])):\n",
        "     textArr.append(j)\n",
        "  strText = ''.join(str(s) for s in list(textArr))\n",
        "  print(strText)  "
      ]
    }
  ]
}