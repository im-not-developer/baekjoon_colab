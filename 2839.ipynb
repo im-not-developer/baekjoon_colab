{
  "nbformat": 4,
  "nbformat_minor": 0,
  "metadata": {
    "colab": {
      "provenance": [],
      "authorship_tag": "ABX9TyN4HkBdCe23A4K0miTdj5CI",
      "include_colab_link": true
    },
    "kernelspec": {
      "name": "python3",
      "display_name": "Python 3"
    },
    "language_info": {
      "name": "python"
    }
  },
  "cells": [
    {
      "cell_type": "markdown",
      "metadata": {
        "id": "view-in-github",
        "colab_type": "text"
      },
      "source": [
        "<a href=\"https://colab.research.google.com/github/im-not-developer/baekjoon_colab/blob/main/2839.ipynb\" target=\"_parent\"><img src=\"https://colab.research.google.com/assets/colab-badge.svg\" alt=\"Open In Colab\"/></a>"
      ]
    },
    {
      "cell_type": "code",
      "execution_count": 16,
      "metadata": {
        "colab": {
          "base_uri": "https://localhost:8080/"
        },
        "id": "ARIWE5MP00X5",
        "outputId": "d2f45e22-420f-4276-e360-9d38d552781b"
      },
      "outputs": [
        {
          "output_type": "stream",
          "name": "stdout",
          "text": [
            "18\n",
            "4\n"
          ]
        }
      ],
      "source": [
        "sugar = int(input())\n",
        "\n",
        "deliveryCount = 0\n",
        "\n",
        "if (sugar % 5) ==0:\n",
        "  deliveryCount += sugar // 5\n",
        "else:\n",
        "  while sugar > 0:\n",
        "    sugar -= 3\n",
        "    deliveryCount += 1\n",
        "    if sugar % 5 == 0:\n",
        "      deliveryCount += sugar // 5\n",
        "      break\n",
        "    elif sugar == 1 or sugar ==2:\n",
        "      deliveryCount = -1\n",
        "      break\n",
        "    elif sugar == 0:\n",
        "      break\n",
        "\n",
        "print(deliveryCount)\n"
      ]
    }
  ]
}