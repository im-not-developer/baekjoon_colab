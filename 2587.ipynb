{
  "nbformat": 4,
  "nbformat_minor": 0,
  "metadata": {
    "colab": {
      "provenance": [],
      "authorship_tag": "ABX9TyMjxEzb3J2WtbjeYk5AN7np",
      "include_colab_link": true
    },
    "kernelspec": {
      "name": "python3",
      "display_name": "Python 3"
    },
    "language_info": {
      "name": "python"
    }
  },
  "cells": [
    {
      "cell_type": "markdown",
      "metadata": {
        "id": "view-in-github",
        "colab_type": "text"
      },
      "source": [
        "<a href=\"https://colab.research.google.com/github/im-not-developer/baekjoon_colab/blob/main/2587.ipynb\" target=\"_parent\"><img src=\"https://colab.research.google.com/assets/colab-badge.svg\" alt=\"Open In Colab\"/></a>"
      ]
    },
    {
      "cell_type": "code",
      "execution_count": 11,
      "metadata": {
        "colab": {
          "base_uri": "https://localhost:8080/"
        },
        "id": "mu6uSWMwDt_q",
        "outputId": "a00cb480-b4bf-41fe-acda-d33b2ef1ae42"
      },
      "outputs": [
        {
          "output_type": "stream",
          "name": "stdout",
          "text": [
            "10\n",
            "0\n",
            "30\n",
            "60\n",
            "30\n",
            "26\n",
            "30\n"
          ]
        }
      ],
      "source": [
        "N = []\n",
        "\n",
        "for _ in range(5):\n",
        "  N.append(int(input()))\n",
        "\n",
        "total = sum(N) // 5 \n",
        "N.sort()\n",
        "center = N[2]\n",
        "print(total, center, sep='\\n')\n",
        "\n"
      ]
    }
  ]
}