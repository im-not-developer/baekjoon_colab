{
  "nbformat": 4,
  "nbformat_minor": 0,
  "metadata": {
    "colab": {
      "provenance": [],
      "authorship_tag": "ABX9TyN4TxNsnpgEgqYV8qmf2M7s",
      "include_colab_link": true
    },
    "kernelspec": {
      "name": "python3",
      "display_name": "Python 3"
    },
    "language_info": {
      "name": "python"
    }
  },
  "cells": [
    {
      "cell_type": "markdown",
      "metadata": {
        "id": "view-in-github",
        "colab_type": "text"
      },
      "source": [
        "<a href=\"https://colab.research.google.com/github/im-not-developer/baekjoon_colab/blob/main/11021.ipynb\" target=\"_parent\"><img src=\"https://colab.research.google.com/assets/colab-badge.svg\" alt=\"Open In Colab\"/></a>"
      ]
    },
    {
      "cell_type": "code",
      "execution_count": 1,
      "metadata": {
        "colab": {
          "base_uri": "https://localhost:8080/"
        },
        "id": "ewb7Fn-jVVcp",
        "outputId": "ae01787e-da43-4c3a-f811-02ba45802598"
      },
      "outputs": [
        {
          "output_type": "stream",
          "name": "stdout",
          "text": [
            "3\n",
            "1 1\n",
            "Case #1: 2\n",
            "2 6\n",
            "Case #2: 8\n",
            "5 2\n",
            "Case #3: 7\n"
          ]
        }
      ],
      "source": [
        "N = int(input())\n",
        "\n",
        "for i in range(1, N+1):\n",
        "  a, b = map(int, input().split())\n",
        "  print(f'Case #{i}: {a+b}')"
      ]
    }
  ]
}