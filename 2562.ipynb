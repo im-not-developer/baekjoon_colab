{
  "nbformat": 4,
  "nbformat_minor": 0,
  "metadata": {
    "colab": {
      "provenance": [],
      "authorship_tag": "ABX9TyMXgNkhI1mLzHvgSB78Mmyx",
      "include_colab_link": true
    },
    "kernelspec": {
      "name": "python3",
      "display_name": "Python 3"
    },
    "language_info": {
      "name": "python"
    }
  },
  "cells": [
    {
      "cell_type": "markdown",
      "metadata": {
        "id": "view-in-github",
        "colab_type": "text"
      },
      "source": [
        "<a href=\"https://colab.research.google.com/github/im-not-developer/baekjoon_colab/blob/main/2562.ipynb\" target=\"_parent\"><img src=\"https://colab.research.google.com/assets/colab-badge.svg\" alt=\"Open In Colab\"/></a>"
      ]
    },
    {
      "cell_type": "code",
      "execution_count": 17,
      "metadata": {
        "id": "voIuuZ7HWQI-",
        "colab": {
          "base_uri": "https://localhost:8080/"
        },
        "outputId": "8f2aed0a-a201-4047-a181-3efa2f348998"
      },
      "outputs": [
        {
          "output_type": "stream",
          "name": "stdout",
          "text": [
            "3 29 38 12 57 74 40 85 61\n",
            "85\n",
            "8\n"
          ]
        }
      ],
      "source": [
        "n = list(map(int, input().split()))\n",
        "\n",
        "# 백준에서거 이것 처럼 해야함.\n",
        "# n = []\n",
        "\n",
        "# for _ in range(9):\n",
        "#   n.append( int(input() ))\n",
        "\n",
        "maxValue = max(n)\n",
        "\n",
        "print(maxValue, n.index(maxValue)+1, sep='\\n')\n",
        "\n",
        "\n"
      ]
    }
  ]
}